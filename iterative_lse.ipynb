{
 "cells": [
  {
   "cell_type": "markdown",
   "metadata": {},
   "source": [
    "This is still very much a work in progress. Matrix in question is\n",
    "$$ A =\\begin{bmatrix}0.259 &  0.966 \\\\  0.966 & -0.259 \\end{bmatrix} $$\n"
   ]
  },
  {
   "cell_type": "code",
   "execution_count": 1,
   "metadata": {
    "collapsed": true
   },
   "outputs": [],
   "source": [
    "import matplotlib\n",
    "%matplotlib inline\n",
    "# matplotlib.use('Qt5Agg')\n",
    "\n",
    "import matplotlib.pyplot as plt\n",
    "\n",
    "from collections import namedtuple\n",
    "from qiskit import QuantumProgram\n",
    "from qiskit.tools.visualization import *\n",
    "import Qconfig\n",
    "\n",
    "\n",
    "qasm = 'local_qasm_simulator'\n",
    "usim = 'local_unitary_simulator'\n",
    "qx2 = 'ibmqx2'\n",
    "qx4 = 'ibmqx4'\n",
    "qx5 = 'ibmqx5'\n",
    "qxsim = 'ibmqx_qasm_simulator'\n",
    "\n",
    "PhaseEstimate = namedtuple('trial','cname m result outcome')\n",
    "\n",
    "phase_f = lambda k,l: -l*np.pi/2**k if l > 0 else -np.pi/2**(k-1)"
   ]
  },
  {
   "cell_type": "code",
   "execution_count": 2,
   "metadata": {
    "collapsed": true
   },
   "outputs": [],
   "source": [
    "Q = QuantumProgram()\n",
    "Q.set_api(Qconfig.APItoken, Qconfig.config[\"url\"]) # set the APIToken and API url\n",
    "conf = Q.get_backend_configuration(backend=qx4)\n",
    "cmap = conf[\"coupling_map\"]"
   ]
  },
  {
   "cell_type": "code",
   "execution_count": 12,
   "metadata": {
    "collapsed": true
   },
   "outputs": [],
   "source": [
    "def cu_phase(q,c,t,theta):\n",
    "\n",
    "#     q.u1(-theta,t)\n",
    "    q.u3(-theta,0,0,t)\n",
    "    q.z(t)\n",
    "    q.cx(c,t)\n",
    "    q.u3(theta,0,0,t)\n",
    "    q.z(t)\n",
    "#     q. u1(theta,t)\n",
    "    q.cx(c,t)\n",
    "    \n",
    "def proc(outcome,cn, res,first=False, last=False):\n",
    "    count = res.get_counts(cn)\n",
    "#     if first and max(count,key=count.get) == 0:\n",
    "#         return outcome \n",
    "    outcome[1]+=\"\".join(str(max(count,key=count.get)))\n",
    "    outcome[0] = int(outcome[1][::-1],2)\n",
    "    if last:\n",
    "        outcome[1]= outcome[1][::-1]\n",
    "        print(\"last\")\n",
    "    print(outcome[0],outcome[1])\n",
    "    return outcome \n",
    "\n",
    "def get_phase(outcome,m):\n",
    "    phase = [0]*2\n",
    "    eig = outcome[0] /2**m\n",
    "    phi = outcome[0] / 2**(m)\n",
    "    phase[0] = np.exp(1j*2*np.pi*phi)\n",
    "    phase[1] = np.exp(-1j*2*np.pi*phi)\n",
    "    print(\"Phase: \", phase)\n",
    "    print(\"Eigenvalue: \", eig)\n",
    "    return phase"
   ]
  },
  {
   "cell_type": "code",
   "execution_count": 4,
   "metadata": {
    "collapsed": true
   },
   "outputs": [],
   "source": [
    "def phase_estimate(c_name, q, c, m, n, outcome,theta):\n",
    "    phase = Q.create_circuit(c_name, [q], [c])\n",
    "    phase.h(q[0])\n",
    "    phase.h(q[1])\n",
    "    for k in range(2**(m-1-n)):\n",
    "        cu_phase(phase,q[0],q[1],theta)\n",
    "    if n > 0: \n",
    "        phase.u1(phase_f(n,outcome[0]), q[0])\n",
    "    phase.h(q[0])\n",
    "\n",
    "    phase.measure(q[0],c[0])\n",
    "    \n",
    "    r = Q.execute(c_name,\n",
    "                  backend=qasm, \n",
    "                  shots=1024, \n",
    "                  silent=False,\n",
    "                  wait=10,\n",
    "                  timeout=440)\n",
    "    outcome = proc(outcome, c_name, r,first=True if n==0 else False, last=True if m-n==1 else False)\n",
    "    return PhaseEstimate(cname=c_name, m=m, result=r, outcome=outcome)"
   ]
  },
  {
   "cell_type": "code",
   "execution_count": 5,
   "metadata": {
    "scrolled": false
   },
   "outputs": [
    {
     "name": "stdout",
     "output_type": "stream",
     "text": [
      "running on backend: local_qasm_simulator\n",
      "0 0\n",
      "running on backend: local_qasm_simulator\n",
      "last\n",
      "2 10\n"
     ]
    }
   ],
   "source": [
    "theta = 5*np.pi/6\n",
    "m = 2\n",
    "n = 0\n",
    "\n",
    "gates = lambda q,c,t,theta: [ q.u3(theta,t), q.z(t) ]\n",
    "\n",
    "q = Q.create_quantum_register(\"q\", 2)\n",
    "c = Q.create_classical_register(\"c\", 1)\n",
    "cname = ['phase4','phase3','phase2','phase1']\n",
    "\n",
    "runs = []\n",
    "for k in range(m):\n",
    "    if k == 0:\n",
    "        runs.append(phase_estimate((\"phase%d\" %(m-k)), q, c,m,n, [0,\"\"], theta))\n",
    "    else:\n",
    "        runs.append(phase_estimate((\"phase%d\" %(m-k)), q, c,m,n+k, runs[-1].outcome, theta))"
   ]
  },
  {
   "cell_type": "code",
   "execution_count": 13,
   "metadata": {},
   "outputs": [
    {
     "data": {
      "image/png": "[encoded data removed]",
      "text/plain": [
       "<matplotlib.figure.Figure at 0x7f9fe4f2d2b0>"
      ]
     },
     "metadata": {},
     "output_type": "display_data"
    },
    {
     "data": {
      "image/png": "[encoded data removed]",
      "text/plain": [
       "<matplotlib.figure.Figure at 0x7f9fe4d52748>"
      ]
     },
     "metadata": {},
     "output_type": "display_data"
    },
    {
     "name": "stdout",
     "output_type": "stream",
     "text": [
      "Phase:  [(-1+1.2246467991473532e-16j), (-1-1.2246467991473532e-16j)]\n",
      "Eigenvalue:  0.5\n"
     ]
    }
   ],
   "source": [
    "for res in runs:\n",
    "    plot_histogram(res.result.get_counts(res.cname))\n",
    "p = get_phase(runs[-1].outcome,m)\n",
    "eig = runs[-1].outcome[0]"
   ]
  },
  {
   "cell_type": "code",
   "execution_count": 19,
   "metadata": {},
   "outputs": [
    {
     "data": {
      "text/plain": [
       "1.0471975511965979"
      ]
     },
     "execution_count": 19,
     "metadata": {},
     "output_type": "execute_result"
    }
   ],
   "source": [
    "theta1 = 2*np.arcsin(1/eig); theta1"
   ]
  },
  {
   "cell_type": "code",
   "execution_count": 20,
   "metadata": {
    "collapsed": true
   },
   "outputs": [],
   "source": [
    "# theta2 = np.pi\n",
    "Q = QuantumProgram()\n",
    "Q.set_api(Qconfig.APItoken, Qconfig.config[\"url\"])\n",
    "q = Q.create_quantum_register(\"q\", 3)\n",
    "c = Q.create_classical_register(\"c\", 3)"
   ]
  },
  {
   "cell_type": "code",
   "execution_count": 32,
   "metadata": {},
   "outputs": [
    {
     "name": "stdout",
     "output_type": "stream",
     "text": [
      "running on backend: local_qasm_simulator\n"
     ]
    },
    {
     "data": {
      "image/png": "[encoded data removed]",
      "text/plain": [
       "<matplotlib.figure.Figure at 0x7f9fe4df95c0>"
      ]
     },
     "metadata": {},
     "output_type": "display_data"
    }
   ],
   "source": [
    "lse = Q.create_circuit(\"lse\", [q], [c])\n",
    "\n",
    "lse.x(q[0])\n",
    "\n",
    "# lse.h(q[1])\n",
    "lse.u3(5*np.pi/6,0,0,q[1])\n",
    "lse.z(q[1])\n",
    "# lse.cx(q[1],q[0])\n",
    "lse.cu3(theta1,0,0,q[1],q[0])\n",
    "\n",
    "lse.measure(q[0],c[0])\n",
    "lse.measure(q[1],c[1])\n",
    "# lse.measure(q[2],c[2])\n",
    "            \n",
    "r = Q.execute(\"lse\",\n",
    "              backend=qasm, \n",
    "              shots=1024, \n",
    "              silent=False,\n",
    "              wait=10,\n",
    "              timeout=480)\n",
    "\n",
    "plot_histogram(r.get_counts(\"lse\"))"
   ]
  },
  {
   "cell_type": "code",
   "execution_count": 2,
   "metadata": {
    "collapsed": true
   },
   "outputs": [],
   "source": []
  }
 ],
 "metadata": {
  "kernelspec": {
   "display_name": "VPython",
   "language": "python",
   "name": "vpython"
  },
  "language_info": {
   "codemirror_mode": {
    "name": "ipython",
    "version": 3
   },
   "file_extension": ".py",
   "mimetype": "text/x-python",
   "name": "python",
   "nbconvert_exporter": "python",
   "pygments_lexer": "ipython3",
   "version": "3.6.4"
  }
 },
 "nbformat": 4,
 "nbformat_minor": 1
}
