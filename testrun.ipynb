{
 "cells": [
  {
   "cell_type": "code",
   "execution_count": 1,
   "metadata": {},
   "outputs": [],
   "source": [
    "from qiskit import QuantumProgram\n",
    "from qiskit.tools.visualization import plot_histogram\n",
    "import Qconfig\n",
    "import matplotlib.pyplot as plt\n",
    "%matplotlib inline"
   ]
  },
  {
   "cell_type": "code",
   "execution_count": 2,
   "metadata": {},
   "outputs": [],
   "source": [
    "Q = QuantumProgram()\n",
    "Q.set_api(Qconfig.APItoken,Qconfig.config[\"url\"])"
   ]
  },
  {
   "cell_type": "code",
   "execution_count": 3,
   "metadata": {},
   "outputs": [],
   "source": [
    "q2 = Q.create_quantum_register(\"q2\",2)\n",
    "c2 = Q.create_classical_register(\"c2\",2)"
   ]
  },
  {
   "cell_type": "code",
   "execution_count": 72,
   "metadata": {},
   "outputs": [],
   "source": [
    "mX = Q.create_circuit('mX',[q2],[c2])\n",
    "mX.h(q2[0])\n",
    "mX.h(q2[1])\n",
    "mX.measure(q2[0],c2[0])\n",
    "mX.measure(q2[1],c2[1])\n",
    "\n",
    "# Create Bell states\n",
    "\n",
    "# bell state from |00> \n",
    "b00 = Q.create_circuit(\"b00\",[q2],[c2])\n",
    "# b00.x(q2[1])\n",
    "b00.h(q2[1])\n",
    "b00.cx(q2[1], q2[0])\n",
    "Q.add_circuit(\"bX00\",  b00 + mX )\n",
    "\n",
    "# Bell state from |01> \n",
    "b10 = Q.create_circuit(\"b10\",[q2],[c2])\n",
    "b10.x(q2[1])\n",
    "b10.h(q2[1])\n",
    "b10.cx(q2[1], q2[0])\n",
    "Q.add_circuit(\"bX10\",  b10 + mX )"
   ]
  },
  {
   "cell_type": "code",
   "execution_count": 73,
   "metadata": {},
   "outputs": [
    {
     "name": "stdout",
     "output_type": "stream",
     "text": [
      "running on backend: ibmqx_qasm_simulator\n"
     ]
    },
    {
     "data": {
      "image/png": "[encoded data removed]",
      "text/plain": [
       "<matplotlib.figure.Figure at 0x7f2e940b7978>"
      ]
     },
     "metadata": {},
     "output_type": "display_data"
    },
    {
     "data": {
      "image/png": "[encoded data removed]",
      "text/plain": [
       "<matplotlib.figure.Figure at 0x7f2e940b74e0>"
      ]
     },
     "metadata": {},
     "output_type": "display_data"
    }
   ],
   "source": [
    "back = 'ibmqx_qasm_simulator'\n",
    "# backend='ibmqx4'\n",
    "\n",
    "result = Q.execute([\"bX00\",\"bX10\"],backend=back,shots=1024,silent=False)\n",
    "plot_histogram(result.get_counts(\"bX00\"))\n",
    "plot_histogram(result.get_counts(\"bX10\"))"
   ]
  }
 ],
 "metadata": {
  "kernelspec": {
   "display_name": "VPython",
   "language": "python",
   "name": "vpython"
  },
  "language_info": {
   "codemirror_mode": {
    "name": "ipython",
    "version": 3.0
   },
   "file_extension": ".py",
   "mimetype": "text/x-python",
   "name": "python",
   "nbconvert_exporter": "python",
   "pygments_lexer": "ipython3",
   "version": "3.6.2"
  }
 },
 "nbformat": 4,
 "nbformat_minor": 0
}