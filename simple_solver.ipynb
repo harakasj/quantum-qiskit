{
 "cells": [
  {
   "cell_type": "markdown",
   "metadata": {},
   "source": [
    "Solving systems of linear equations.\n",
    "See: http://arxiv.org/abs/1302.4310\n",
    "\n"
   ]
  },
  {
   "cell_type": "code",
   "execution_count": 1,
   "metadata": {},
   "outputs": [],
   "source": [
    "import matplotlib\n",
    "# %matplotlib inline\n",
    "matplotlib.use('Qt5Agg')\n",
    "import numpy as np\n",
    "import matplotlib.pyplot as plt\n",
    "from qiskit import QuantumProgram\n",
    "from qiskit.tools.visualization import *\n",
    "from qiskit.tools.qi.qi import state_fidelity, concurrence, purity, outer,vectorize\n",
    "import Qconfig"
   ]
  },
  {
   "cell_type": "code",
   "execution_count": 24,
   "metadata": {},
   "outputs": [],
   "source": [
    "n = 4\n",
    "Q = QuantumProgram()\n",
    "# Q.set_api(Qconfig.APItoken,Qconfig.config[\"url\"])\n",
    "q = Q.create_quantum_register(\"q\",n)\n",
    "c = Q.create_classical_register(\"c\",4)"
   ]
  },
  {
   "cell_type": "code",
   "execution_count": 118,
   "metadata": {
    "scrolled": true
   },
   "outputs": [
    {
     "name": "stdout",
     "output_type": "stream",
     "text": [
      "running on backend: local_qasm_simulator\n"
     ]
    }
   ],
   "source": [
    "phase = Q.create_circuit(\"phase\", [q],[c])\n",
    "# phase.x(q[3])\n",
    "phase.h(q[3])\n",
    "phase.h(q[3])\n",
    "phase.cx(q[3],q[2])\n",
    "phase.cx(q[2],q[1])\n",
    "# phase.ccx(q[3],q[2],q[1])\n",
    "phase.x(q[2])\n",
    "phase.h(q[3])\n",
    "#===============================\n",
    "phase.swap(q[1],q[2])\n",
    "phase.swap(q[2],q[1])\n",
    "phase.h(q[0])\n",
    "# phase.ch(q[1],q[0])\n",
    "phase.cu3(2*np.pi/2,pi,2*pi,q[1],q[0])\n",
    "phase.cu3(2*np.pi/4,np.pi,2*np.pi,q[2],q[0])\n",
    "\n",
    "#================\n",
    "# phase.h(q[1])\n",
    "# phase.h(q[2])\n",
    "# phase.h(q[0])\n",
    "# phase.h(q[3])\n",
    "#================\n",
    "\n",
    "phase.measure(q,c)\n",
    "\n",
    "qasm = 'local_qasm_simulator'\n",
    "usim = 'local_unitary_simulator'\n",
    "r = Q.execute(\"phase\", \n",
    "              backend=qasm,\n",
    "              shots=1024,\n",
    "              silent=False\n",
    "             )\n",
    "plot_histogram(r.get_counts(\"phase\"))"
   ]
  },
  {
   "cell_type": "code",
   "execution_count": 8,
   "metadata": {},
   "outputs": [
    {
     "name": "stdout",
     "output_type": "stream",
     "text": [
      "The 0th eigenvalue = 1.0\n"
     ]
    }
   ],
   "source": [
    "ground = np.zeros(2**n)\n",
    "ground[0] = 1\n",
    "state1 = np.dot(r.get_data('phase')['unitary'],ground)\n",
    "rho1 = np.outer(state1,state1.conj())\n",
    "plot_state(rho1,'qsphere')"
   ]
  },
  {
   "cell_type": "code",
   "execution_count": 21,
   "metadata": {},
   "outputs": [],
   "source": [
    "u = np.matrix([[ 1/np.sqrt(2),  1/np.sqrt(2)],\n",
    "        [1/np.sqrt(2), -1/np.sqrt(2)]])\n",
    "\n",
    "c = outer(vectorize(u))\n",
    "plot_state(c)"
   ]
  }
 ],
 "metadata": {
  "kernelspec": {
   "display_name": "VPython",
   "language": "python",
   "name": "vpython"
  },
  "language_info": {
   "codemirror_mode": {
    "name": "ipython",
    "version": 3.0
   },
   "file_extension": ".py",
   "mimetype": "text/x-python",
   "name": "python",
   "nbconvert_exporter": "python",
   "pygments_lexer": "ipython3",
   "version": "3.6.3"
  }
 },
 "nbformat": 4,
 "nbformat_minor": 0
}