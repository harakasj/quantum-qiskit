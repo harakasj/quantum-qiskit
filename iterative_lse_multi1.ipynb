{
 "cells": [
  {
   "cell_type": "markdown",
   "metadata": {},
   "source": [
    "Work in progress. Matrix in question is\n",
    "$$ A =\\begin{bmatrix}1.5 &  0.5 \\\\  0.5 & 1.5 \\end{bmatrix} $$\n",
    "and \n",
    "$$ \\vert b \\rangle = \\frac{1}{\\sqrt{2}}\\big( \\vert 0 \\rangle + \\vert 1 \\rangle \\big) $$\n"
   ]
  },
  {
   "cell_type": "code",
   "execution_count": 186,
   "metadata": {
    "collapsed": true
   },
   "outputs": [],
   "source": [
    "import matplotlib\n",
    "%matplotlib inline\n",
    "# matplotlib.use('Qt5Agg')\n",
    "import matplotlib.pyplot as plt\n",
    "from collections import namedtuple\n",
    "from qiskit import QuantumProgram\n",
    "from qiskit.tools.visualization import *\n",
    "# import Qconfig\n",
    "\n",
    "qasm = 'local_qasm_simulator'\n",
    "usim = 'local_unitary_simulator'\n",
    "qx2 = 'ibmqx2'\n",
    "qx4 = 'ibmqx4'\n",
    "qx5 = 'ibmqx5'\n",
    "qxsim = 'ibmqx_qasm_simulator'\n",
    "\n",
    "PhaseEstimate = namedtuple('trial','cname m result outcome')\n",
    "Angles = namedtuple('angles','theta phi rho')\n",
    "\n",
    "phase_f = lambda k,l: -l*np.pi/2**k if l > 0 else -np.pi/2**(k-1)\n"
   ]
  },
  {
   "cell_type": "code",
   "execution_count": 187,
   "metadata": {
    "collapsed": true
   },
   "outputs": [],
   "source": [
    "Q = QuantumProgram()\n",
    "# Q.set_api(Qconfig.APItoken, Qconfig.config[\"url\"]) # set the APIToken and API url\n",
    "# conf = Q.get_backend_configuration(backend=qx4)\n",
    "# cmap = conf[\"coupling_map\"]"
   ]
  },
  {
   "cell_type": "code",
   "execution_count": 199,
   "metadata": {
    "collapsed": true
   },
   "outputs": [],
   "source": [
    "def cu_phase(q,c,t,a):\n",
    "    q.u3(-a.theta,-a.phi,-a.rho,t)\n",
    "    q.cx(c,t)\n",
    "    q.u3(a.theta,a.phi,a.rho,t)\n",
    "    q.cx(c,t)\n",
    "    \n",
    "def proc(outcome,cn, res,first=False, last=False):\n",
    "    count = res.get_counts(cn)\n",
    "#     if first and max(count,key=count.get) == 0:\n",
    "#         return outcome \n",
    "    outcome[1]+=\"\".join(str(max(count,key=count.get)))\n",
    "    outcome[0] = int(outcome[1][::-1],2)\n",
    "    if last:\n",
    "        outcome[1]= outcome[1][::-1]\n",
    "        print(\"last\")\n",
    "    print(outcome[0],outcome[1])\n",
    "    return outcome \n",
    "\n",
    "def get_phase(outcome,m):\n",
    "    phase = [0]*2\n",
    "    eig = outcome[0] /2**(m-1)\n",
    "#     phi = outcome[0] / 2**(m-1)\n",
    "    phase[0] = np.exp(1j*2*np.pi*eig)\n",
    "    phase[1] = np.exp(-1j*2*np.pi*eig)\n",
    "    print(\"Phase: \", phase)\n",
    "    print(\"Eigenvalue: \", eig)\n",
    "    return eig\n",
    "\n",
    "\n",
    "def get_phase(outcome,m,registers=1):\n",
    "    if registers > 1:\n",
    "        int(outcome[0][::-1],2)\n",
    "    phase = [0]*2\n",
    "    eig = outcome[0] /2**(m-1)\n",
    "#     phi = outcome[0] / 2**(m-1)\n",
    "    phase[0] = np.exp(1j*2*np.pi*eig)\n",
    "    phase[1] = np.exp(-1j*2*np.pi*eig)\n",
    "    print(\"Phase: \", phase)\n",
    "    print(\"Eigenvalue: \", eig)\n",
    "    return eig\n",
    "\n"
   ]
  },
  {
   "cell_type": "code",
   "execution_count": 200,
   "metadata": {
    "collapsed": true
   },
   "outputs": [],
   "source": [
    "def phase_estimate(c_name, q, c, m, n, outcome,params):\n",
    "    phase = Q.create_circuit(c_name, [q], [c])\n",
    "    phase.h(q[0])\n",
    "    phase.h(q[1])\n",
    "    for k in range(2**(m-1-n)):\n",
    "        cu_phase(phase,q[0],q[1],params)\n",
    "    if n > 0: \n",
    "        phase.u1(phase_f(n,outcome[0]), q[0])\n",
    "    phase.h(q[0])\n",
    "    \n",
    "    phase.measure(q[0],c[0])\n",
    "    \n",
    "    r = Q.execute(c_name,\n",
    "                  backend=qasm, \n",
    "                  shots=1024, \n",
    "                  wait=10,\n",
    "                  timeout=440)\n",
    "    outcome = proc(outcome, c_name, r,first=True if n==0 else False, last=True if m-n==1 else False)\n",
    "    return PhaseEstimate(cname=c_name, m=m, result=r, outcome=outcome)"
   ]
  },
  {
   "cell_type": "code",
   "execution_count": 249,
   "metadata": {
    "scrolled": false
   },
   "outputs": [
    {
     "name": "stdout",
     "output_type": "stream",
     "text": [
      "1 1\n",
      "last\n",
      "3 11\n"
     ]
    }
   ],
   "source": [
    "theta = np.pi/2\n",
    "phi = 0\n",
    "rho = 0\n",
    "params = Angles(theta,phi,rho)\n",
    "m = 2\n",
    "n = 0\n",
    "\n",
    "gates = lambda q,t: [ q.u3(-theta, -phi, -rho, t), q.u3(theta, phi, rho, t) ]\n",
    "\n",
    "q = Q.create_quantum_register(\"q\", 2)\n",
    "c = Q.create_classical_register(\"c\", 1)\n",
    "cname = ['phase4','phase3','phase2','phase1']\n",
    "\n",
    "runs = []\n",
    "for k in range(m):\n",
    "    if k == 0:\n",
    "        runs.append(phase_estimate((\"phase%d\" %(m-k)), q, c,m,n, [0,\"\"], params))\n",
    "    else:\n",
    "        runs.append(phase_estimate((\"phase%d\" %(m-k)), q, c,m,n+k, runs[-1].outcome,params))"
   ]
  },
  {
   "cell_type": "code",
   "execution_count": 245,
   "metadata": {},
   "outputs": [
    {
     "name": "stdout",
     "output_type": "stream",
     "text": [
      "last\n",
      "2 10\n",
      "last\n",
      "3 11\n"
     ]
    },
    {
     "data": {
      "text/plain": [
       "array([['2', '10'],\n",
       "       ['3', '11']], dtype='<U21')"
      ]
     },
     "execution_count": 245,
     "metadata": {},
     "output_type": "execute_result"
    }
   ],
   "source": [
    "res = runs[-1].result.get_counts(cname[-1])\n",
    "outcomes = []\n",
    "for k in res.keys():\n",
    "    outcomes.append([res[k],k])\n",
    "outcomes[0] = proc(outcomes[0],runs[-1].cname,runs[-1].result,last=True)\n",
    "outcomes[1] = proc(outcomes[1],runs[-1].cname,runs[-1].result,last=True)\n",
    "outcomes = np.asarray(outcomes); outcomes"
   ]
  },
  {
   "cell_type": "code",
   "execution_count": 252,
   "metadata": {},
   "outputs": [
    {
     "name": "stdout",
     "output_type": "stream",
     "text": [
      "Eigenvalues:  [2, 1]\n"
     ]
    }
   ],
   "source": [
    "# This is pretty ad hoc. There should be a 1 bit phase difference\n",
    "\n",
    "eigs = []\n",
    "l1 = sum(x != y for x,y in zip((outcomes[0,1]),(outcomes[1,1])))\n",
    "# if l1 == 1:\n",
    "b1=outcomes[0,1]\n",
    "b2=outcomes[1,1]\n",
    "# b2 = format( ((int(b2,2)) - (int(b1,2)))  , '02b'); b2\n",
    "if b2 == '00':\n",
    "    b2 = format( ((int(b1,2)) + (int(b1,2)))  , '02b'); b2\n",
    "if b2 == '11':\n",
    "     b2 = format( ((int(b2,2)) - (int(b1,2)))  , '02b'); b2\n",
    "\n",
    "eigs.append(int(b1,2))\n",
    "eigs.append(int(b2,2))\n",
    "print(\"Eigenvalues: \", eigs)"
   ]
  },
  {
   "cell_type": "code",
   "execution_count": 233,
   "metadata": {},
   "outputs": [
    {
     "data": {
      "image/png": "[encoded data removed]",
      "text/plain": [
       "<matplotlib.figure.Figure at 0x7fbf61a67550>"
      ]
     },
     "metadata": {},
     "output_type": "display_data"
    },
    {
     "data": {
      "image/png": "[encoded data removed]",
      "text/plain": [
       "<matplotlib.figure.Figure at 0x7fbf61a19828>"
      ]
     },
     "metadata": {},
     "output_type": "display_data"
    }
   ],
   "source": [
    "for res in runs:\n",
    "    plot_histogram(res.result.get_counts(res.cname))"
   ]
  },
  {
   "cell_type": "code",
   "execution_count": 257,
   "metadata": {},
   "outputs": [
    {
     "data": {
      "text/plain": [
       "1.0471975511965979"
      ]
     },
     "execution_count": 257,
     "metadata": {},
     "output_type": "execute_result"
    }
   ],
   "source": [
    "theta =2*np.arcsin(min(eigs)/max(eigs)); theta"
   ]
  },
  {
   "cell_type": "code",
   "execution_count": 254,
   "metadata": {
    "collapsed": true
   },
   "outputs": [],
   "source": [
    "# theta2 = np.pi\n",
    "Q = QuantumProgram()\n",
    "# Q.set_api(Qconfig.APItoken, Qconfig.config[\"url\"])\n",
    "q = Q.create_quantum_register(\"q\", 3)\n",
    "c = Q.create_classical_register(\"c\", 3)"
   ]
  },
  {
   "cell_type": "code",
   "execution_count": 256,
   "metadata": {},
   "outputs": [
    {
     "data": {
      "image/png": "[encoded data removed]",
      "text/plain": [
       "<matplotlib.figure.Figure at 0x7fbf6063cf60>"
      ]
     },
     "metadata": {},
     "output_type": "display_data"
    },
    {
     "name": "stdout",
     "output_type": "stream",
     "text": [
      "[0.3838 0.1367 0.375  0.1045]\n",
      "[0.62  0.37  0.612 0.323]\n"
     ]
    }
   ],
   "source": [
    "lse = Q.create_circuit(\"lse\", [q], [c])\n",
    "lse.x(q[0])\n",
    "\n",
    "lse.h(q[2])\n",
    "lse.x(q[1])\n",
    "lse.cx(q[2],q[1])\n",
    "\n",
    "lse.u3(-np.pi/2,0,0,q[1])\n",
    "lse.cu3(theta,0,0,q[1],q[0])\n",
    "\n",
    "lse.u3(np.pi/2,0,0,q[2])\n",
    "lse.cu3(theta,0,0,q[2],q[0])\n",
    "\n",
    "lse.measure(q[0],c[0])\n",
    "lse.measure(q[1],c[1])\n",
    "lse.measure(q[2],c[2])\n",
    "\n",
    "            \n",
    "r = Q.execute(\"lse\",\n",
    "              backend=qasm, \n",
    "              shots=1024, \n",
    "              wait=10,\n",
    "              timeout=300)\n",
    "\n",
    "plot_histogram(r.get_counts(\"lse\"))\n",
    "vals = [x/1024 for x in list(r.get_counts(\"lse\").values())]\n",
    "print(np.round(vals,4))\n",
    "x = [np.round(np.sqrt(x),3) for x in vals]\n",
    "print(np.round(x,3))\n"
   ]
  },
  {
   "cell_type": "code",
   "execution_count": 25,
   "metadata": {},
   "outputs": [
    {
     "data": {
      "image/png": "[encoded data removed]",
      "text/plain": [
       "<matplotlib.figure.Figure at 0x7fbf61a33668>"
      ]
     },
     "metadata": {},
     "output_type": "display_data"
    }
   ],
   "source": [
    "res = r.get_counts('lse'); res\n",
    "nruns = res['011'] + res['101']; nruns\n",
    "a = {'011': res['011']/nruns, '101': res['101']/nruns}; a\n",
    "plot_histogram(a)"
   ]
  },
  {
   "cell_type": "code",
   "execution_count": 26,
   "metadata": {
    "collapsed": true
   },
   "outputs": [],
   "source": [
    "bad = res['010'] + res['100']; bad\n",
    "b = {'010': res['010']/bad, '100': res['100']/bad}; b\n",
    "bi = [np.sqrt(z) for z in b.values()]"
   ]
  },
  {
   "cell_type": "code",
   "execution_count": 27,
   "metadata": {},
   "outputs": [
    {
     "name": "stdout",
     "output_type": "stream",
     "text": [
      "got   x = (0.37162, 0.33570)\n",
      "exact x = (0.35355, 0.35355)\n",
      "error e = (0.01807, 0.01785)\n",
      "error % = (5.11043, 5.04988)\n"
     ]
    }
   ],
   "source": [
    "x=[np.sqrt(x)*y for x,y in zip(a.values(),b.values())]\n",
    "xr = np.array([0.35355339,0.35355339])\n",
    "err = np.abs(x-xr)\n",
    "err_p = (err/xr) *100\n",
    "\n",
    "print('got   x = ({:0<1.5f}, {:1<1.5f})'.format(float(x[0]),float(x[1])))\n",
    "print('exact x = ({:0<1.5f}, {:1<1.5f})'.format(float(xr[0]),float(xr[1])))\n",
    "print('error e = ({:0<1.5f}, {:1<1.5f})'.format(float(err[0]),float(err[1])))\n",
    "print('error % = ({:0<1.5f}, {:1<1.5f})'.format(float(err_p[0]),float(err_p[1])))\n"
   ]
  }
 ],
 "metadata": {
  "kernelspec": {
   "display_name": "VPython",
   "language": "python",
   "name": "vpython"
  },
  "language_info": {
   "codemirror_mode": {
    "name": "ipython",
    "version": 3
   },
   "file_extension": ".py",
   "mimetype": "text/x-python",
   "name": "python",
   "nbconvert_exporter": "python",
   "pygments_lexer": "ipython3",
   "version": "3.6.4"
  }
 },
 "nbformat": 4,
 "nbformat_minor": 1
}
