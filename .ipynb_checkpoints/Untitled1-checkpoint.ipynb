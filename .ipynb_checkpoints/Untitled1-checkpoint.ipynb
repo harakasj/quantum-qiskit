{
 "cells": [
  {
   "cell_type": "code",
   "execution_count": 1,
   "metadata": {},
   "outputs": [],
   "source": [
    "\n",
    "from qiskit import QuantumProgram\n",
    "from qiskit.tools.visualization import plot_histogram\n",
    "import Qconfig\n",
    "import matplotlib.pyplot as plt\n",
    "%matplotlib inline"
   ]
  },
  {
   "cell_type": "code",
   "execution_count": 2,
   "metadata": {},
   "outputs": [
    {
     "data": {
      "text/plain": [
       "['ibmqx4',\n",
       " 'ibmqx2',\n",
       " 'ibmqx5',\n",
       " 'ibmqx_qasm_simulator',\n",
       " 'local_qasm_simulator',\n",
       " 'local_unitary_simulator']"
      ]
     },
     "execution_count": 2,
     "metadata": {},
     "output_type": "execute_result"
    }
   ],
   "source": [
    "# Check available backends \n",
    "Q = QuantumProgram()\n",
    "Q.set_api(Qconfig.APItoken,Qconfig.config[\"url\"])\n",
    "Q.available_backends()"
   ]
  },
  {
   "cell_type": "code",
   "execution_count": 4,
   "metadata": {},
   "outputs": [
    {
     "data": {
      "text/plain": [
       "<qiskit._measure.Measure at 0x7efc6599f2e8>"
      ]
     },
     "execution_count": 4,
     "metadata": {},
     "output_type": "execute_result"
    }
   ],
   "source": [
    "q2 = Q.create_quantum_register(\"q2\",2)\n",
    "c2 = Q.create_classical_register(\"c2\",2)\n",
    "\n",
    "bell = Q.create_circuit(\"bell\",[q2],[c2])\n",
    "bell.h(q2[1])\n",
    "bell.cx(q2[1], q2[0])\n",
    "\n",
    "mZ0 = Q.create_circuit(\"mZ0\",[q2],[c2])\n",
    "mZ0.measure(q2[0],c2[0])\n",
    "\n",
    "mZ1 = Q.create_circuit(\"mZ1\",[q2],[c2])\n",
    "mZ1.measure(q2[1],c2[1])\n",
    "\n",
    "mZ = Q.create_circuit(\"mZ\",[q2],[c2])\n",
    "mZ.h(q2[0])\n",
    "mZ.cx(q2[0],q2[1])\n",
    "mZ.measure(q2[0],c2[0])\n",
    "mZ.measure(q2[1],c2[1])\n",
    "\n",
    "\n",
    "mX0 = Q.create_circuit(\"mX0\",[q2],[c2])\n",
    "mX0.h(q2[0])\n",
    "mX0.measure(q2[0],c2[0])\n",
    "\n",
    "mX1 = Q.create_circuit(\"mX0\",[q2],[c2])\n",
    "mX1.h(q2[1])\n",
    "mX1.measure(q2[1],c2[1])\n",
    "\n",
    "mX = Q.create_circuit('mX',[q2],[c2])\n",
    "mX.h(q2[0])\n",
    "mX.h(q2[1])\n",
    "mX.measure(q2[0],c2[0])\n",
    "mX.measure(q2[1],c2[1])"
   ]
  },
  {
   "cell_type": "code",
   "execution_count": 5,
   "metadata": {},
   "outputs": [],
   "source": [
    "Q.add_circuit(\"bmZ0\", bell + mZ0)\n",
    "Q.add_circuit(\"bmZ1\", bell + mZ1)\n",
    "Q.add_circuit(\"bmX0\", bell + mX0)\n",
    "Q.add_circuit(\"bmX1\", bell + mX1)\n",
    "Q.add_circuit(\"bmZ\",  bell + mZ )\n",
    "Q.add_circuit(\"bmX\",  bell + mX )"
   ]
  },
  {
   "cell_type": "code",
   "execution_count": 6,
   "metadata": {
    "scrolled": true
   },
   "outputs": [
    {
     "name": "stdout",
     "output_type": "stream",
     "text": [
      "OPENQASM 2.0;\n",
      "include \"qelib1.inc\";\n",
      "qreg q2[2];\n",
      "creg c2[2];\n",
      "h q2[1];\n",
      "cx q2[1],q2[0];\n",
      "measure q2[0] -> c2[0];\n",
      "OPENQASM 2.0;\n",
      "include \"qelib1.inc\";\n",
      "qreg q2[2];\n",
      "creg c2[2];\n",
      "h q2[1];\n",
      "cx q2[1],q2[0];\n",
      "h q2[0];\n",
      "measure q2[0] -> c2[0];\n",
      "OPENQASM 2.0;\n",
      "include \"qelib1.inc\";\n",
      "qreg q2[2];\n",
      "creg c2[2];\n",
      "h q2[1];\n",
      "cx q2[1],q2[0];\n",
      "measure q2[1] -> c2[1];\n",
      "OPENQASM 2.0;\n",
      "include \"qelib1.inc\";\n",
      "qreg q2[2];\n",
      "creg c2[2];\n",
      "h q2[1];\n",
      "cx q2[1],q2[0];\n",
      "h q2[1];\n",
      "measure q2[1] -> c2[1];\n",
      "OPENQASM 2.0;\n",
      "include \"qelib1.inc\";\n",
      "qreg q2[2];\n",
      "creg c2[2];\n",
      "h q2[1];\n",
      "cx q2[1],q2[0];\n",
      "measure q2[0] -> c2[0];\n",
      "measure q2[1] -> c2[1];\n",
      "OPENQASM 2.0;\n",
      "include \"qelib1.inc\";\n",
      "qreg q2[2];\n",
      "creg c2[2];\n",
      "h q2[1];\n",
      "cx q2[1],q2[0];\n",
      "h q2[0];\n",
      "h q2[1];\n",
      "measure q2[0] -> c2[0];\n",
      "measure q2[1] -> c2[1];\n",
      "\n"
     ]
    }
   ],
   "source": [
    "circuits = [\"bmZ0\",\"bmX0\",\"bmZ1\",\"bmX1\",\"bmZ\",\"bmX\"]\n",
    "out = Q.get_qasms(circuits)\n",
    "print(*out,sep='')"
   ]
  },
  {
   "cell_type": "code",
   "execution_count": 7,
   "metadata": {},
   "outputs": [
    {
     "name": "stdout",
     "output_type": "stream",
     "text": [
      "running on backend: ibmqx_qasm_simulator\n"
     ]
    }
   ],
   "source": [
    "backend = 'ibmqx_qasm_simulator'\n",
    "# backend='ibmqx4'\n",
    "shots = 1024\n",
    "\n",
    "result = Q.execute(\"mZ\",backend=backend,shots=shots,silent=False)\n",
    "# result = Q.execute(circuits[4:6],\n",
    "#                    max_credits=3,\n",
    "#                    wait=10,\n",
    "#                    timeout=240,\n",
    "#                    silent=False,\n",
    "#                    backend=backend,\n",
    "#                    shots=shots)"
   ]
  },
  {
   "cell_type": "code",
   "execution_count": 8,
   "metadata": {},
   "outputs": [
    {
     "data": {
      "text/plain": [
       "{'additionalData': {'seed': 4058252828},\n",
       " 'counts': {'00': 1024},\n",
       " 'creg_labels': 'c2[2]',\n",
       " 'date': '2017-10-27T04:40:55.363Z',\n",
       " 'time': 0.00419142}"
      ]
     },
     "execution_count": 8,
     "metadata": {},
     "output_type": "execute_result"
    }
   ],
   "source": [
    "result.get_data(\"mZ\")"
   ]
  },
  {
   "cell_type": "code",
   "execution_count": null,
   "metadata": {
    "collapsed": true
   },
   "outputs": [],
   "source": []
  },
  {
   "cell_type": "code",
   "execution_count": null,
   "metadata": {
    "collapsed": true
   },
   "outputs": [],
   "source": []
  },
  {
   "cell_type": "code",
   "execution_count": 9,
   "metadata": {},
   "outputs": [
    {
     "data": {
      "image/png": "[encoded data removed]",
      "text/plain": [
       "<matplotlib.figure.Figure at 0x7efc65c93dd8>"
      ]
     },
     "metadata": {},
     "output_type": "display_data"
    }
   ],
   "source": [
    "plot_histogram(result.get_counts(\"mZ\"))"
   ]
  },
  {
   "cell_type": "code",
   "execution_count": null,
   "metadata": {
    "collapsed": true
   },
   "outputs": [],
   "source": []
  },
  {
   "cell_type": "code",
   "execution_count": null,
   "metadata": {
    "collapsed": true
   },
   "outputs": [],
   "source": []
  }
 ],
 "metadata": {
  "kernelspec": {
   "display_name": "VPython",
   "language": "python",
   "name": "vpython"
  },
  "language_info": {
   "codemirror_mode": {
    "name": "ipython",
    "version": 3
   },
   "file_extension": ".py",
   "mimetype": "text/x-python",
   "name": "python",
   "nbconvert_exporter": "python",
   "pygments_lexer": "ipython3",
   "version": "3.6.2"
  }
 },
 "nbformat": 4,
 "nbformat_minor": 1
}
