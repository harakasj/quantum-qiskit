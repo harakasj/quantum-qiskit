{
 "cells": [
  {
   "cell_type": "code",
   "execution_count": 3,
   "metadata": {
    "collapsed": true
   },
   "outputs": [],
   "source": [
    "import matplotlib\n",
    "# matplotlib.use('Qt5Agg')\n",
    "%matplotlib inline\n",
    "import matplotlib.pyplot as plt\n",
    "import numpy as np\n",
    "from qutip import *"
   ]
  },
  {
   "cell_type": "code",
   "execution_count": 6,
   "metadata": {
    "collapsed": true
   },
   "outputs": [],
   "source": [
    "I = identity(2)\n",
    "H = hadamard_transform(1)\n",
    "X = sigmax()\n",
    "Y = sigmay()\n",
    "Z = sigmaz()\n",
    "\n",
    "S = Qobj([[1, 0], [0, 1j]])\n",
    "T = Qobj([[1, 0], [0,np.exp(1j*np.pi/4)]])\n",
    "\n",
    "\n",
    "# Take the complex modulus of a state \n",
    "Mod = lambda x: np.sqrt(np.real(x)**2 + np.imag(x)**2)\n",
    "\n",
    "# Projection operator \n",
    "P = lambda u,v: u * v.dag()\n",
    "\n",
    "\n",
    "# Standard basis states\n",
    "k0 = basis(2,0)\n",
    "k1 = basis(2,1)\n",
    "# Hadamard basis states\n",
    "h0 = H * k0\n",
    "h1 = H * k1\n",
    "# Circular basis states\n",
    "y0 = S * h0\n",
    "y1 = S.dag() * h0"
   ]
  },
  {
   "cell_type": "code",
   "execution_count": 7,
   "metadata": {},
   "outputs": [],
   "source": [
    "U3 = lambda theta, phi, rho: Qobj([[np.cos(theta / 2), -np.exp(1j * rho) * np.sin(theta / 2)],\n",
    "                                     [np.exp(1j * phi) * np.sin(theta / 2),\n",
    "                                      np.exp(1j * rho + 1j * phi) * np.cos(theta / 2)]])\n",
    "\n",
    "U2 = lambda phi, rho: U3(np.pi / 2, phi, rho)\n",
    "U1 = lambda rho: U3(0, 0, rho)\n",
    "\n",
    "Rx = lambda theta: U3(theta, -np.pi / 2, np.pi / 2)\n",
    "Ry = lambda theta: U3(theta, 0, 0)\n",
    "Rz = lambda phi: U1(phi)\n",
    "\n",
    "CU3 = lambda theta, phi, rho: Qobj([\n",
    "    [1, 0, 0, 0],\n",
    "    [0, 1, 0, 0],\n",
    "    [0, 0, np.exp(-1j*(phi + rho)/2)*np.cos(theta/2), -np.exp(-1j*(phi - rho)/2)*np.sin(theta/2)],\n",
    "    [0, 0, np.exp(-1j*(phi - rho)/2)*np.sin(theta/2), np.exp(1j*(phi + rho)/2)*np.cos(theta/2)]\n",
    "],dims=[[2,2],[2,2]])\n"
   ]
  },
  {
   "cell_type": "code",
   "execution_count": 8,
   "metadata": {},
   "outputs": [
    {
     "data": {
      "text/latex": [
       "Quantum object: dims = [[2, 2, 2], [2, 2, 2]], shape = (8, 8), type = oper, isherm = False\\begin{equation*}\\left(\\begin{array}{*{11}c}1.0 & 0.0 & 0.0 & 0.0 & 0.0 & 0.0 & 0.0 & 0.0\\\\0.0 & 1.0 & 0.0 & 0.0 & 0.0 & 0.0 & 0.0 & 0.0\\\\0.0 & 0.0 & 1.0 & 0.0 & 0.0 & 0.0 & 0.0 & 0.0\\\\0.0 & 0.0 & 0.0 & 1.0 & 0.0 & 0.0 & 0.0 & 0.0\\\\0.0 & 0.0 & 0.0 & 0.0 & 0.866 & -0.500 & 0.0 & 0.0\\\\0.0 & 0.0 & 0.0 & 0.0 & 0.500 & 0.866 & 0.0 & 0.0\\\\0.0 & 0.0 & 0.0 & 0.0 & 0.0 & 0.0 & 0.866 & -0.500\\\\0.0 & 0.0 & 0.0 & 0.0 & 0.0 & 0.0 & 0.500 & 0.866\\\\\\end{array}\\right)\\end{equation*}"
      ],
      "text/plain": [
       "Quantum object: dims = [[2, 2, 2], [2, 2, 2]], shape = (8, 8), type = oper, isherm = False\n",
       "Qobj data =\n",
       "[[ 1.         0.         0.         0.         0.         0.\n",
       "   0.         0.       ]\n",
       " [ 0.         1.         0.         0.         0.         0.\n",
       "   0.         0.       ]\n",
       " [ 0.         0.         1.         0.         0.         0.\n",
       "   0.         0.       ]\n",
       " [ 0.         0.         0.         1.         0.         0.\n",
       "   0.         0.       ]\n",
       " [ 0.         0.         0.         0.         0.8660254 -0.5\n",
       "   0.         0.       ]\n",
       " [ 0.         0.         0.         0.         0.5        0.8660254\n",
       "   0.         0.       ]\n",
       " [ 0.         0.         0.         0.         0.         0.\n",
       "   0.8660254 -0.5      ]\n",
       " [ 0.         0.         0.         0.         0.         0.\n",
       "   0.5        0.8660254]]"
      ]
     },
     "execution_count": 8,
     "metadata": {},
     "output_type": "execute_result"
    }
   ],
   "source": [
    "# Arbitrary controlled gate\n",
    "R = controlled_gate(Ry(np.pi/3),N=3, control=0, target=2); R"
   ]
  }
 ],
 "metadata": {
  "kernelspec": {
   "display_name": "VPython",
   "language": "python",
   "name": "vpython"
  },
  "language_info": {
   "codemirror_mode": {
    "name": "ipython",
    "version": 3
   },
   "file_extension": ".py",
   "mimetype": "text/x-python",
   "name": "python",
   "nbconvert_exporter": "python",
   "pygments_lexer": "ipython3",
   "version": "3.6.4"
  }
 },
 "nbformat": 4,
 "nbformat_minor": 1
}
